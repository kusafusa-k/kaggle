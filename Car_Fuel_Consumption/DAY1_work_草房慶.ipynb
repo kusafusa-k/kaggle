{
 "cells": [
  {
   "cell_type": "markdown",
   "metadata": {},
   "source": [
    "# Day1課題\n",
    "## Car Fuel Consumption\n",
    "https://www.kaggle.com/anderas/car-consume"
   ]
  },
  {
   "cell_type": "markdown",
   "metadata": {},
   "source": [
    "## day1やること\n",
    "\n",
    "- 目的変数と説明変数の関係を確認するためのグラフを作成\n",
    "- 目的変数を説明するのに有効そうな説明変数を見つける\n",
    "- Day1で学んだアルゴリズムを利用する\n",
    "       回帰問題ー＞線形回帰\n",
    "       質的変数が扱えないアルゴリズムを使う場合、ダミー変数に置き換え\n",
    "- 予測精度または識別精度を確認する\n",
    "       回帰問題ー＞MSE、RMSE、MAE\n"
   ]
  },
  {
   "cell_type": "markdown",
   "metadata": {},
   "source": [
    "## データ\n",
    "\n",
    "measurements.csv <br>\n",
    "各項目を日本語で説明入れてみる\n",
    "\n",
    "| columns| 説明| 内容| 種類|\n",
    "|:-----------|------------:|:------------:|:------------:|\n",
    "| distance| 距離| km| 量的変数|\n",
    "| consume| 消費量| L / 100km| 量的変数|\n",
    "| speed| 平均速度| km/h| 量的変数|\n",
    "| temp_inside| 内気温| ℃| 量的変数|\n",
    "| temp_outside| 外気温|　℃| 量的変数|\n",
    "| specials| スペシャル| 雨雪などの天気 <br>エアコンON/OFF| 質的変数|\n",
    "| gas_type| ガソリンタイプ|　SP98、E10| 質的変数|\n",
    "| AC| エアコン| 'ON':1、'OFF':0| 質的変数|\n",
    "| rain| 雨| '雨':1、'雨じゃない':0| 質的変数|\n",
    "| sun| 晴れ| '晴れ':1、'晴れじゃない':0| 質的変数|\n",
    "| refill liters| リッター補充時の金額| ユーロ？| 量的変数|\n",
    "| refill gas| ガソリン補充の種類| SP98、E10| 質的変数|"
   ]
  },
  {
   "cell_type": "markdown",
   "metadata": {},
   "source": [
    "## ソースコード"
   ]
  },
  {
   "cell_type": "code",
   "execution_count": 1,
   "metadata": {},
   "outputs": [],
   "source": [
    "import numpy as np\n",
    "import pandas as pd\n",
    "import matplotlib.pyplot as plt\n",
    "import seaborn as sns\n",
    "from sklearn.linear_model import LinearRegression\n",
    "from sklearn.metrics import mean_squared_error, mean_absolute_error"
   ]
  },
  {
   "cell_type": "code",
   "execution_count": 2,
   "metadata": {},
   "outputs": [],
   "source": [
    "# データ読み取り\n",
    "df_data  = pd.read_csv('./data/measurements.csv')"
   ]
  },
  {
   "cell_type": "code",
   "execution_count": 3,
   "metadata": {},
   "outputs": [
    {
     "data": {
      "text/html": [
       "<div>\n",
       "<style scoped>\n",
       "    .dataframe tbody tr th:only-of-type {\n",
       "        vertical-align: middle;\n",
       "    }\n",
       "\n",
       "    .dataframe tbody tr th {\n",
       "        vertical-align: top;\n",
       "    }\n",
       "\n",
       "    .dataframe thead th {\n",
       "        text-align: right;\n",
       "    }\n",
       "</style>\n",
       "<table border=\"1\" class=\"dataframe\">\n",
       "  <thead>\n",
       "    <tr style=\"text-align: right;\">\n",
       "      <th></th>\n",
       "      <th>distance</th>\n",
       "      <th>consume</th>\n",
       "      <th>speed</th>\n",
       "      <th>temp_inside</th>\n",
       "      <th>temp_outside</th>\n",
       "      <th>specials</th>\n",
       "      <th>gas_type</th>\n",
       "      <th>AC</th>\n",
       "      <th>rain</th>\n",
       "      <th>sun</th>\n",
       "      <th>refill liters</th>\n",
       "      <th>refill gas</th>\n",
       "    </tr>\n",
       "  </thead>\n",
       "  <tbody>\n",
       "    <tr>\n",
       "      <th>0</th>\n",
       "      <td>28</td>\n",
       "      <td>5</td>\n",
       "      <td>26</td>\n",
       "      <td>21,5</td>\n",
       "      <td>12</td>\n",
       "      <td>NaN</td>\n",
       "      <td>E10</td>\n",
       "      <td>0</td>\n",
       "      <td>0</td>\n",
       "      <td>0</td>\n",
       "      <td>45</td>\n",
       "      <td>E10</td>\n",
       "    </tr>\n",
       "    <tr>\n",
       "      <th>1</th>\n",
       "      <td>12</td>\n",
       "      <td>4,2</td>\n",
       "      <td>30</td>\n",
       "      <td>21,5</td>\n",
       "      <td>13</td>\n",
       "      <td>NaN</td>\n",
       "      <td>E10</td>\n",
       "      <td>0</td>\n",
       "      <td>0</td>\n",
       "      <td>0</td>\n",
       "      <td>NaN</td>\n",
       "      <td>NaN</td>\n",
       "    </tr>\n",
       "    <tr>\n",
       "      <th>2</th>\n",
       "      <td>11,2</td>\n",
       "      <td>5,5</td>\n",
       "      <td>38</td>\n",
       "      <td>21,5</td>\n",
       "      <td>15</td>\n",
       "      <td>NaN</td>\n",
       "      <td>E10</td>\n",
       "      <td>0</td>\n",
       "      <td>0</td>\n",
       "      <td>0</td>\n",
       "      <td>NaN</td>\n",
       "      <td>NaN</td>\n",
       "    </tr>\n",
       "    <tr>\n",
       "      <th>3</th>\n",
       "      <td>12,9</td>\n",
       "      <td>3,9</td>\n",
       "      <td>36</td>\n",
       "      <td>21,5</td>\n",
       "      <td>14</td>\n",
       "      <td>NaN</td>\n",
       "      <td>E10</td>\n",
       "      <td>0</td>\n",
       "      <td>0</td>\n",
       "      <td>0</td>\n",
       "      <td>NaN</td>\n",
       "      <td>NaN</td>\n",
       "    </tr>\n",
       "    <tr>\n",
       "      <th>4</th>\n",
       "      <td>18,5</td>\n",
       "      <td>4,5</td>\n",
       "      <td>46</td>\n",
       "      <td>21,5</td>\n",
       "      <td>15</td>\n",
       "      <td>NaN</td>\n",
       "      <td>E10</td>\n",
       "      <td>0</td>\n",
       "      <td>0</td>\n",
       "      <td>0</td>\n",
       "      <td>NaN</td>\n",
       "      <td>NaN</td>\n",
       "    </tr>\n",
       "  </tbody>\n",
       "</table>\n",
       "</div>"
      ],
      "text/plain": [
       "  distance consume  speed temp_inside  temp_outside specials gas_type  AC  \\\n",
       "0       28       5     26        21,5            12      NaN      E10   0   \n",
       "1       12     4,2     30        21,5            13      NaN      E10   0   \n",
       "2     11,2     5,5     38        21,5            15      NaN      E10   0   \n",
       "3     12,9     3,9     36        21,5            14      NaN      E10   0   \n",
       "4     18,5     4,5     46        21,5            15      NaN      E10   0   \n",
       "\n",
       "   rain  sun refill liters refill gas  \n",
       "0     0    0            45        E10  \n",
       "1     0    0           NaN        NaN  \n",
       "2     0    0           NaN        NaN  \n",
       "3     0    0           NaN        NaN  \n",
       "4     0    0           NaN        NaN  "
      ]
     },
     "metadata": {},
     "output_type": "display_data"
    },
    {
     "data": {
      "text/html": [
       "<div>\n",
       "<style scoped>\n",
       "    .dataframe tbody tr th:only-of-type {\n",
       "        vertical-align: middle;\n",
       "    }\n",
       "\n",
       "    .dataframe tbody tr th {\n",
       "        vertical-align: top;\n",
       "    }\n",
       "\n",
       "    .dataframe thead th {\n",
       "        text-align: right;\n",
       "    }\n",
       "</style>\n",
       "<table border=\"1\" class=\"dataframe\">\n",
       "  <thead>\n",
       "    <tr style=\"text-align: right;\">\n",
       "      <th></th>\n",
       "      <th>speed</th>\n",
       "      <th>temp_outside</th>\n",
       "      <th>AC</th>\n",
       "      <th>rain</th>\n",
       "      <th>sun</th>\n",
       "    </tr>\n",
       "  </thead>\n",
       "  <tbody>\n",
       "    <tr>\n",
       "      <th>count</th>\n",
       "      <td>388.000000</td>\n",
       "      <td>388.000000</td>\n",
       "      <td>388.000000</td>\n",
       "      <td>388.000000</td>\n",
       "      <td>388.000000</td>\n",
       "    </tr>\n",
       "    <tr>\n",
       "      <th>mean</th>\n",
       "      <td>41.927835</td>\n",
       "      <td>11.358247</td>\n",
       "      <td>0.077320</td>\n",
       "      <td>0.123711</td>\n",
       "      <td>0.082474</td>\n",
       "    </tr>\n",
       "    <tr>\n",
       "      <th>std</th>\n",
       "      <td>13.598524</td>\n",
       "      <td>6.991542</td>\n",
       "      <td>0.267443</td>\n",
       "      <td>0.329677</td>\n",
       "      <td>0.275441</td>\n",
       "    </tr>\n",
       "    <tr>\n",
       "      <th>min</th>\n",
       "      <td>14.000000</td>\n",
       "      <td>-5.000000</td>\n",
       "      <td>0.000000</td>\n",
       "      <td>0.000000</td>\n",
       "      <td>0.000000</td>\n",
       "    </tr>\n",
       "    <tr>\n",
       "      <th>25%</th>\n",
       "      <td>32.750000</td>\n",
       "      <td>7.000000</td>\n",
       "      <td>0.000000</td>\n",
       "      <td>0.000000</td>\n",
       "      <td>0.000000</td>\n",
       "    </tr>\n",
       "    <tr>\n",
       "      <th>50%</th>\n",
       "      <td>40.500000</td>\n",
       "      <td>10.000000</td>\n",
       "      <td>0.000000</td>\n",
       "      <td>0.000000</td>\n",
       "      <td>0.000000</td>\n",
       "    </tr>\n",
       "    <tr>\n",
       "      <th>75%</th>\n",
       "      <td>50.000000</td>\n",
       "      <td>16.000000</td>\n",
       "      <td>0.000000</td>\n",
       "      <td>0.000000</td>\n",
       "      <td>0.000000</td>\n",
       "    </tr>\n",
       "    <tr>\n",
       "      <th>max</th>\n",
       "      <td>90.000000</td>\n",
       "      <td>31.000000</td>\n",
       "      <td>1.000000</td>\n",
       "      <td>1.000000</td>\n",
       "      <td>1.000000</td>\n",
       "    </tr>\n",
       "  </tbody>\n",
       "</table>\n",
       "</div>"
      ],
      "text/plain": [
       "            speed  temp_outside          AC        rain         sun\n",
       "count  388.000000    388.000000  388.000000  388.000000  388.000000\n",
       "mean    41.927835     11.358247    0.077320    0.123711    0.082474\n",
       "std     13.598524      6.991542    0.267443    0.329677    0.275441\n",
       "min     14.000000     -5.000000    0.000000    0.000000    0.000000\n",
       "25%     32.750000      7.000000    0.000000    0.000000    0.000000\n",
       "50%     40.500000     10.000000    0.000000    0.000000    0.000000\n",
       "75%     50.000000     16.000000    0.000000    0.000000    0.000000\n",
       "max     90.000000     31.000000    1.000000    1.000000    1.000000"
      ]
     },
     "metadata": {},
     "output_type": "display_data"
    }
   ],
   "source": [
    "# 取得したデータ確認\n",
    "display(df_data.head())\n",
    "display(df_data.describe())"
   ]
  },
  {
   "cell_type": "markdown",
   "metadata": {},
   "source": [
    "### データの整形"
   ]
  },
  {
   "cell_type": "code",
   "execution_count": 4,
   "metadata": {},
   "outputs": [],
   "source": [
    "# 小数点表示を','から'.'に変更\n",
    "df_data = df_data.replace('\\,', '.', regex=True)\n",
    "\n",
    "# 文字列から数値に変換\n",
    "df_data['distance'] = df_data['distance'].astype(float)\n",
    "df_data['consume'] = df_data['consume'].astype(float)\n",
    "df_data['speed'] = df_data['speed'].astype(float)\n",
    "df_data['temp_inside'] = df_data['temp_inside'].astype(float)\n",
    "df_data['temp_outside'] = df_data['temp_outside'].astype(float)\n",
    "df_data['refill liters'] = df_data['refill liters'].astype(float)\n",
    "\n",
    "# 'SP98':0, 'E10':1に変換\n",
    "df_data.loc[df_data['gas_type'] == 'SP98', 'gas_type'] = 0\n",
    "df_data.loc[df_data['gas_type'] == 'E10', 'gas_type'] = 1\n",
    "df_data.loc[df_data['refill gas'] == 'SP98', 'refill gas'] = 0\n",
    "df_data.loc[df_data['refill gas'] == 'E10', 'refill gas'] = 1"
   ]
  },
  {
   "cell_type": "code",
   "execution_count": 5,
   "metadata": {},
   "outputs": [
    {
     "data": {
      "text/plain": [
       "rain                  32\n",
       "sun                   27\n",
       "AC rain                9\n",
       "ac                     8\n",
       "AC                     6\n",
       "snow                   3\n",
       "sun ac                 3\n",
       "AC snow                1\n",
       "AC sun                 1\n",
       "half rain half sun     1\n",
       "AC Sun                 1\n",
       "ac rain                1\n",
       "Name: specials, dtype: int64"
      ]
     },
     "execution_count": 5,
     "metadata": {},
     "output_type": "execute_result"
    }
   ],
   "source": [
    "# スペシャルの中身確認\n",
    "df_data['specials'].value_counts()"
   ]
  },
  {
   "cell_type": "code",
   "execution_count": 6,
   "metadata": {
    "scrolled": false
   },
   "outputs": [
    {
     "data": {
      "text/plain": [
       "rain                  32\n",
       "sun                   27\n",
       "AC                    14\n",
       "AC rain               10\n",
       "AC sun                 5\n",
       "snow                   3\n",
       "AC snow                1\n",
       "half rain half sun     1\n",
       "Name: specials, dtype: int64"
      ]
     },
     "execution_count": 6,
     "metadata": {},
     "output_type": "execute_result"
    }
   ],
   "source": [
    "# '大文字小文字がバラバラなのでAC'と'sun'に統一\n",
    "df_data.loc[df_data['specials'] == 'Sun', 'specials'] = 'sun'\n",
    "df_data.loc[df_data['specials'] == 'ac', 'specials'] = 'AC'\n",
    "df_data.loc[df_data['specials'] == 'AC Sun', 'specials'] = 'AC sun'\n",
    "df_data.loc[df_data['specials'] == 'sun ac', 'specials'] = 'AC sun'\n",
    "df_data.loc[df_data['specials'] == 'ac rain', 'specials'] = 'AC rain'\n",
    "df_data['specials'].value_counts()"
   ]
  },
  {
   "cell_type": "code",
   "execution_count": 7,
   "metadata": {},
   "outputs": [],
   "source": [
    "# 'specials’をダミー変数に置き換え\n",
    "df_specials = pd.get_dummies(df_data['specials'])\n",
    "df_specials.columns = [\n",
    "    '[s]AC', '[s]AC rain', '[s]AC snow', '[s]AC sun', '[s]half rain half sun', '[s]rain', '[s]snow', '[s]sun'\n",
    "]\n",
    "df_data = pd.concat([df_data, df_specials],axis = 1)\n",
    "\n",
    "# ダミー変数に置き換えたので'specials'は削除\n",
    "df_data = df_data.drop(['specials'], axis = 1)\n",
    "\n",
    "# TODO AC,rain,sunとspecialのAC,rain,sunはまとめることができないか?"
   ]
  },
  {
   "cell_type": "code",
   "execution_count": 8,
   "metadata": {
    "scrolled": false
   },
   "outputs": [
    {
     "data": {
      "text/plain": [
       "distance                   0\n",
       "consume                    0\n",
       "speed                      0\n",
       "temp_inside               12\n",
       "temp_outside               0\n",
       "gas_type                   0\n",
       "AC                         0\n",
       "rain                       0\n",
       "sun                        0\n",
       "refill liters            375\n",
       "refill gas               375\n",
       "[s]AC                      0\n",
       "[s]AC rain                 0\n",
       "[s]AC snow                 0\n",
       "[s]AC sun                  0\n",
       "[s]half rain half sun      0\n",
       "[s]rain                    0\n",
       "[s]snow                    0\n",
       "[s]sun                     0\n",
       "dtype: int64"
      ]
     },
     "execution_count": 8,
     "metadata": {},
     "output_type": "execute_result"
    }
   ],
   "source": [
    "# 欠損値確認\n",
    "df_data.isnull().sum()"
   ]
  },
  {
   "cell_type": "code",
   "execution_count": 9,
   "metadata": {
    "scrolled": true
   },
   "outputs": [],
   "source": [
    "#  temp_insideの欠損値は、平均値を入れる\n",
    "# TODO 平均値で良いのか？\n",
    "df_data['temp_inside'] = df_data['temp_inside'].fillna(df_data['temp_inside'].mean())\n",
    "\n",
    "# 'refill liters','refil gas'は欠損値多すぎるので削除\n",
    "# TODO 消さずに使う方法は無いか？\n",
    "df_data = df_data.drop('refill liters', axis=1)\n",
    "df_data = df_data.drop('refill gas', axis=1)"
   ]
  },
  {
   "cell_type": "markdown",
   "metadata": {},
   "source": [
    "### グラフを可視化"
   ]
  },
  {
   "cell_type": "code",
   "execution_count": 10,
   "metadata": {
    "scrolled": false
   },
   "outputs": [
    {
     "data": {
      "text/plain": [
       "distance                -0.128967\n",
       "consume                  1.000000\n",
       "speed                   -0.227866\n",
       "temp_inside             -0.160623\n",
       "temp_outside            -0.320811\n",
       "gas_type                 0.015327\n",
       "AC                       0.096591\n",
       "rain                     0.248118\n",
       "sun                     -0.170667\n",
       "[s]AC                   -0.042500\n",
       "[s]AC rain               0.084747\n",
       "[s]AC snow               0.107772\n",
       "[s]AC sun               -0.036804\n",
       "[s]half rain half sun   -0.010462\n",
       "[s]rain                  0.157122\n",
       "[s]snow                  0.021755\n",
       "[s]sun                  -0.168194\n",
       "Name: consume, dtype: float64"
      ]
     },
     "metadata": {},
     "output_type": "display_data"
    },
    {
     "data": {
      "text/plain": [
       "<matplotlib.axes._subplots.AxesSubplot at 0x1a12e2ee10>"
      ]
     },
     "execution_count": 10,
     "metadata": {},
     "output_type": "execute_result"
    },
    {
     "data": {
      "image/png": "[encoded data removed]",
      "text/plain": [
       "<Figure size 432x288 with 2 Axes>"
      ]
     },
     "metadata": {},
     "output_type": "display_data"
    }
   ],
   "source": [
    "# 'consume'に絞って、相関係数、ヒートマップを可視化\n",
    "# TODO 行名、列名はどうやって表示すればいい？\n",
    "consume_corr = df_data.corr()['consume']\n",
    "display(consume_corr)\n",
    "sns.heatmap(consume_corr[:, np.newaxis])"
   ]
  },
  {
   "cell_type": "code",
   "execution_count": 11,
   "metadata": {},
   "outputs": [],
   "source": [
    "# 散布図行列は表示項目が多すぎて見づらいため省略\n",
    "# pd.plotting.scatter_matrix(df_data, figsize=(10,10))\n",
    "# plt.show()"
   ]
  },
  {
   "cell_type": "code",
   "execution_count": 12,
   "metadata": {
    "scrolled": true
   },
   "outputs": [
    {
     "data": {
      "image/png": "[encoded data removed]",
      "text/plain": [
       "<Figure size 432x288 with 1 Axes>"
      ]
     },
     "metadata": {},
     "output_type": "display_data"
    },
    {
     "data": {
      "image/png": "[encoded data removed]",
      "text/plain": [
       "<Figure size 432x288 with 1 Axes>"
      ]
     },
     "metadata": {},
     "output_type": "display_data"
    },
    {
     "data": {
      "image/png": "[encoded data removed]",
      "text/plain": [
       "<Figure size 432x288 with 1 Axes>"
      ]
     },
     "metadata": {},
     "output_type": "display_data"
    },
    {
     "data": {
      "image/png": "[encoded data removed]",
      "text/plain": [
       "<Figure size 432x288 with 1 Axes>"
      ]
     },
     "metadata": {},
     "output_type": "display_data"
    },
    {
     "data": {
      "image/png": "[encoded data removed]",
      "text/plain": [
       "<Figure size 432x288 with 1 Axes>"
      ]
     },
     "metadata": {},
     "output_type": "display_data"
    },
    {
     "data": {
      "image/png": "[encoded data removed]",
      "text/plain": [
       "<Figure size 432x288 with 1 Axes>"
      ]
     },
     "metadata": {},
     "output_type": "display_data"
    },
    {
     "data": {
      "image/png": "[encoded data removed]",
      "text/plain": [
       "<Figure size 432x288 with 1 Axes>"
      ]
     },
     "metadata": {},
     "output_type": "display_data"
    },
    {
     "data": {
      "image/png": "[encoded data removed]",
      "text/plain": [
       "<Figure size 432x288 with 1 Axes>"
      ]
     },
     "metadata": {},
     "output_type": "display_data"
    },
    {
     "data": {
      "image/png": "[encoded data removed]",
      "text/plain": [
       "<Figure size 432x288 with 1 Axes>"
      ]
     },
     "metadata": {},
     "output_type": "display_data"
    },
    {
     "data": {
      "image/png": "[encoded data removed]",
      "text/plain": [
       "<Figure size 432x288 with 1 Axes>"
      ]
     },
     "metadata": {},
     "output_type": "display_data"
    },
    {
     "data": {
      "image/png": "[encoded data removed]",
      "text/plain": [
       "<Figure size 432x288 with 1 Axes>"
      ]
     },
     "metadata": {},
     "output_type": "display_data"
    },
    {
     "data": {
      "image/png": "[encoded data removed]",
      "text/plain": [
       "<Figure size 432x288 with 1 Axes>"
      ]
     },
     "metadata": {},
     "output_type": "display_data"
    },
    {
     "data": {
      "image/png": "[encoded data removed]",
      "text/plain": [
       "<Figure size 432x288 with 1 Axes>"
      ]
     },
     "metadata": {},
     "output_type": "display_data"
    },
    {
     "data": {
      "image/png": "[encoded data removed]",
      "text/plain": [
       "<Figure size 432x288 with 1 Axes>"
      ]
     },
     "metadata": {},
     "output_type": "display_data"
    },
    {
     "data": {
      "image/png": "[encoded data removed]",
      "text/plain": [
       "<Figure size 432x288 with 1 Axes>"
      ]
     },
     "metadata": {},
     "output_type": "display_data"
    },
    {
     "data": {
      "image/png": "[encoded data removed]",
      "text/plain": [
       "<Figure size 432x288 with 1 Axes>"
      ]
     },
     "metadata": {},
     "output_type": "display_data"
    },
    {
     "data": {
      "image/png": "[encoded data removed]",
      "text/plain": [
       "<Figure size 432x288 with 1 Axes>"
      ]
     },
     "metadata": {},
     "output_type": "display_data"
    }
   ],
   "source": [
    "# consumeに絞って散布図表示してみる\n",
    "for column in df_data.columns:\n",
    "    plt.scatter(df_data[column], df_data['consume'])\n",
    "    plt.xlabel(column)\n",
    "    plt.ylabel('consume')\n",
    "    plt.show()"
   ]
  },
  {
   "cell_type": "markdown",
   "metadata": {},
   "source": [
    "### 検証"
   ]
  },
  {
   "cell_type": "code",
   "execution_count": 13,
   "metadata": {
    "scrolled": false
   },
   "outputs": [
    {
     "name": "stdout",
     "output_type": "stream",
     "text": [
      "-----------------------------------\n",
      "相関係数の絶対値が0.0以上の説明変数\n",
      "Index(['distance', 'speed', 'temp_inside', 'temp_outside', 'gas_type', 'AC',\n",
      "       'rain', 'sun', '[s]AC', '[s]AC rain', '[s]AC snow', '[s]AC sun',\n",
      "       '[s]half rain half sun', '[s]rain', '[s]snow', '[s]sun'],\n",
      "      dtype='object')\n",
      "MSE = 0.737\n",
      "MAE = 0.585\n",
      "RMSE = 0.858\n",
      "\n",
      "w0 = 7.275\n",
      "w1 : distance = 0.002\n",
      "w2 : speed = -0.017\n",
      "w3 : temp_inside = -0.060\n",
      "w4 : temp_outside = -0.039\n",
      "w5 : gas_type = 0.024\n",
      "w6 : AC = -0.136\n",
      "w7 : rain = 7.096\n",
      "w8 : sun = 0.148\n",
      "w9 : [s]AC = 0.333\n",
      "w10 : [s]AC rain = -6.505\n",
      "w11 : [s]AC snow = -4.933\n",
      "w12 : [s]AC sun = 0.496\n",
      "w13 : [s]half rain half sun = -7.317\n",
      "w14 : [s]rain = -6.574\n",
      "w15 : [s]snow = -7.068\n",
      "w16 : [s]sun = -0.348\n",
      "二乗誤差 = 142.947\n",
      "\n",
      "-----------------------------------\n",
      "相関係数の絶対値が0.1以上の説明変数\n",
      "Index(['distance', 'speed', 'temp_inside', 'temp_outside', 'rain', 'sun',\n",
      "       '[s]AC snow', '[s]rain', '[s]sun'],\n",
      "      dtype='object')\n",
      "MSE = 0.846\n",
      "MAE = 0.614\n",
      "RMSE = 0.92\n",
      "\n",
      "w0 = 7.448\n",
      "w1 : distance = 0.002\n",
      "w2 : speed = -0.019\n",
      "w3 : temp_inside = -0.065\n",
      "w4 : temp_outside = -0.037\n",
      "w5 : rain = 0.751\n",
      "w6 : sun = 0.505\n",
      "w7 : [s]AC snow = 1.334\n",
      "w8 : [s]rain = -0.230\n",
      "w9 : [s]sun = -0.732\n",
      "二乗誤差 = 164.045\n",
      "\n",
      "-----------------------------------\n",
      "相関係数の絶対値が0.2以上の説明変数\n",
      "Index(['speed', 'temp_outside', 'rain'], dtype='object')\n",
      "MSE = 0.862\n",
      "MAE = 0.619\n",
      "RMSE = 0.928\n",
      "\n",
      "w0 = 6.024\n",
      "w1 : speed = -0.017\n",
      "w2 : temp_outside = -0.041\n",
      "w3 : rain = 0.621\n",
      "二乗誤差 = 167.210\n",
      "\n",
      "-----------------------------------\n",
      "相関係数の絶対値が0.30000000000000004以上の説明変数\n",
      "Index(['temp_outside'], dtype='object')\n",
      "MSE = 0.955\n",
      "MAE = 0.627\n",
      "RMSE = 0.977\n",
      "\n",
      "w0 = 5.451\n",
      "w1 : temp_outside = -0.047\n",
      "二乗誤差 = 185.292\n",
      "\n",
      "-----------------------------------\n",
      "相関係数の絶対値が0.4以上の説明変数\n",
      "Index([], dtype='object')\n",
      "該当する説明変数無し->終了！\n"
     ]
    }
   ],
   "source": [
    "# どのデータを説明変数にすれば良いか分からないので、\n",
    "# 相関係数の値を変えながら、\n",
    "# それを満たす説明変数を選択した際の制度を抽出\n",
    "for exp_num in np.arange(0, 1, 0.1):\n",
    "    exp_data = df_data.corr()['consume'][\n",
    "        abs(consume_corr) >= exp_num\n",
    "    ].index\n",
    "    exp_data = exp_data.drop('consume')\n",
    "\n",
    "    print('-----------------------------------')\n",
    "    print('相関係数の絶対値が{}以上の説明変数'.format(exp_num))\n",
    "    print(exp_data)\n",
    "\n",
    "    if not len(exp_data):\n",
    "        print('該当する説明変数無し->終了！')\n",
    "        break\n",
    "    \n",
    "    X = df_data[exp_data].values\n",
    "    y = df_data['consume'].values\n",
    "\n",
    "    # 線形回帰\n",
    "    regr = LinearRegression(fit_intercept = True)\n",
    "    regr.fit(X, y)\n",
    "\n",
    "    y_pred = regr.predict(X)\n",
    "    mse = mean_squared_error(y, y_pred) \n",
    "    mae = mean_absolute_error(y, y_pred) \n",
    "    rmse = np.sqrt(mse)\n",
    "    \n",
    "    print(\"MSE = %s\"%round(mse,3))  \n",
    "    print(\"MAE = %s\"%round(mae,3))\n",
    "    print(\"RMSE = %s\\n\"%round(rmse, 3))\n",
    "    \n",
    "    # 重みと二乗誤差の確認\n",
    "    y_est = regr.intercept_\n",
    "    print('w0 = {:.3f}'.format(y_est))\n",
    "\n",
    "    w, x = [], []\n",
    "    for cnt, column in enumerate(exp_data):\n",
    "        w.append(regr.coef_[cnt])\n",
    "        x.append(df_data[column].values)\n",
    "        y_est += w[cnt] * x[cnt]\n",
    "        print('w{} : {} = {:.3f}'.format(cnt + 1, exp_data[cnt], w[cnt]))\n",
    "\n",
    "    squared_error = 0.5 * np.sum((y - y_est) ** 2)\n",
    "    print('二乗誤差 = {:.3f}\\n'.format(squared_error))"
   ]
  },
  {
   "cell_type": "markdown",
   "metadata": {},
   "source": [
    "## まとめ\n",
    "検証より、説明変数に全部のデータを使ったほうが誤差が小さくなった。 <br>\n",
    "そもそもデータの整形段階で、相関係数が高くなるデータを作る必要がありそう。（TODO項目の箇所） <br>\n"
   ]
  },
  {
   "cell_type": "code",
   "execution_count": null,
   "metadata": {},
   "outputs": [],
   "source": []
  }
 ],
 "metadata": {
  "kernelspec": {
   "display_name": "Python 3",
   "language": "python",
   "name": "python3"
  },
  "language_info": {
   "codemirror_mode": {
    "name": "ipython",
    "version": 3
   },
   "file_extension": ".py",
   "mimetype": "text/x-python",
   "name": "python",
   "nbconvert_exporter": "python",
   "pygments_lexer": "ipython3",
   "version": "3.6.5"
  }
 },
 "nbformat": 4,
 "nbformat_minor": 2
}
